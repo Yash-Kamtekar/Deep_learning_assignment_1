{
  "nbformat": 4,
  "nbformat_minor": 0,
  "metadata": {
    "colab": {
      "name": "Gradient Descent.ipynb",
      "provenance": [],
      "collapsed_sections": [],
      "authorship_tag": "ABX9TyOBQHeTAN+Zr5KwR/T1+aG/",
      "include_colab_link": true
    },
    "kernelspec": {
      "name": "python3",
      "display_name": "Python 3"
    },
    "language_info": {
      "name": "python"
    }
  },
  "cells": [
    {
      "cell_type": "markdown",
      "metadata": {
        "id": "view-in-github",
        "colab_type": "text"
      },
      "source": [
        "<a href=\"https://colab.research.google.com/github/Yash-Kamtekar/Deep_learning_assignment_1/blob/main/Gradient_Descent.ipynb\" target=\"_parent\"><img src=\"https://colab.research.google.com/assets/colab-badge.svg\" alt=\"Open In Colab\"/></a>"
      ]
    },
    {
      "cell_type": "markdown",
      "source": [
        "## **Gradient Descent from scratch**"
      ],
      "metadata": {
        "id": "REOrJukc-W_6"
      }
    },
    {
      "cell_type": "markdown",
      "source": [
        "Import libraries"
      ],
      "metadata": {
        "id": "N4KPh6C0HoKk"
      }
    },
    {
      "cell_type": "code",
      "source": [
        "import numpy as np\n",
        "import pandas as pd\n",
        "import matplotlib.pyplot as plt\n",
        "import seaborn as sns\n",
        "from google.colab import drive"
      ],
      "metadata": {
        "id": "lKA4_-zh2-I_"
      },
      "execution_count": 158,
      "outputs": []
    },
    {
      "cell_type": "markdown",
      "source": [
        "Mounting drive"
      ],
      "metadata": {
        "id": "GSZxKYpTHpxN"
      }
    },
    {
      "cell_type": "code",
      "source": [
        "drive.mount(\"/content/drive\")"
      ],
      "metadata": {
        "colab": {
          "base_uri": "https://localhost:8080/"
        },
        "id": "-oWLy5rn4n19",
        "outputId": "fa4f9f05-bd53-4957-a9d6-d538e9206bcb"
      },
      "execution_count": 159,
      "outputs": [
        {
          "output_type": "stream",
          "name": "stdout",
          "text": [
            "Drive already mounted at /content/drive; to attempt to forcibly remount, call drive.mount(\"/content/drive\", force_remount=True).\n"
          ]
        }
      ]
    },
    {
      "cell_type": "markdown",
      "source": [
        "importing the dataset."
      ],
      "metadata": {
        "id": "WCSQ37sBHruS"
      }
    },
    {
      "cell_type": "code",
      "source": [
        "salary_dataset = pd.read_csv(\"/content/drive/MyDrive/258/Assignment_1/Salary.csv\")\n",
        "salary_dataset.head()"
      ],
      "metadata": {
        "colab": {
          "base_uri": "https://localhost:8080/",
          "height": 206
        },
        "id": "-f8z5R2E4uuU",
        "outputId": "d7516cfe-1951-4825-93ff-7604e1fa1987"
      },
      "execution_count": 160,
      "outputs": [
        {
          "output_type": "execute_result",
          "data": {
            "text/html": [
              "\n",
              "  <div id=\"df-cc21e361-305b-42e2-8851-09c9bc4ca5f9\">\n",
              "    <div class=\"colab-df-container\">\n",
              "      <div>\n",
              "<style scoped>\n",
              "    .dataframe tbody tr th:only-of-type {\n",
              "        vertical-align: middle;\n",
              "    }\n",
              "\n",
              "    .dataframe tbody tr th {\n",
              "        vertical-align: top;\n",
              "    }\n",
              "\n",
              "    .dataframe thead th {\n",
              "        text-align: right;\n",
              "    }\n",
              "</style>\n",
              "<table border=\"1\" class=\"dataframe\">\n",
              "  <thead>\n",
              "    <tr style=\"text-align: right;\">\n",
              "      <th></th>\n",
              "      <th>YearsExperience</th>\n",
              "      <th>Salary</th>\n",
              "      <th>age</th>\n",
              "      <th>company_change</th>\n",
              "      <th>type</th>\n",
              "    </tr>\n",
              "  </thead>\n",
              "  <tbody>\n",
              "    <tr>\n",
              "      <th>0</th>\n",
              "      <td>1.1</td>\n",
              "      <td>39343</td>\n",
              "      <td>21</td>\n",
              "      <td>1</td>\n",
              "      <td>junior</td>\n",
              "    </tr>\n",
              "    <tr>\n",
              "      <th>1</th>\n",
              "      <td>1.3</td>\n",
              "      <td>46205</td>\n",
              "      <td>31</td>\n",
              "      <td>0</td>\n",
              "      <td>middle</td>\n",
              "    </tr>\n",
              "    <tr>\n",
              "      <th>2</th>\n",
              "      <td>1.5</td>\n",
              "      <td>37731</td>\n",
              "      <td>29</td>\n",
              "      <td>1</td>\n",
              "      <td>middle</td>\n",
              "    </tr>\n",
              "    <tr>\n",
              "      <th>3</th>\n",
              "      <td>2.0</td>\n",
              "      <td>43525</td>\n",
              "      <td>30</td>\n",
              "      <td>1</td>\n",
              "      <td>middle</td>\n",
              "    </tr>\n",
              "    <tr>\n",
              "      <th>4</th>\n",
              "      <td>2.2</td>\n",
              "      <td>39891</td>\n",
              "      <td>27</td>\n",
              "      <td>1</td>\n",
              "      <td>middle</td>\n",
              "    </tr>\n",
              "  </tbody>\n",
              "</table>\n",
              "</div>\n",
              "      <button class=\"colab-df-convert\" onclick=\"convertToInteractive('df-cc21e361-305b-42e2-8851-09c9bc4ca5f9')\"\n",
              "              title=\"Convert this dataframe to an interactive table.\"\n",
              "              style=\"display:none;\">\n",
              "        \n",
              "  <svg xmlns=\"http://www.w3.org/2000/svg\" height=\"24px\"viewBox=\"0 0 24 24\"\n",
              "       width=\"24px\">\n",
              "    <path d=\"M0 0h24v24H0V0z\" fill=\"none\"/>\n",
              "    <path d=\"M18.56 5.44l.94 2.06.94-2.06 2.06-.94-2.06-.94-.94-2.06-.94 2.06-2.06.94zm-11 1L8.5 8.5l.94-2.06 2.06-.94-2.06-.94L8.5 2.5l-.94 2.06-2.06.94zm10 10l.94 2.06.94-2.06 2.06-.94-2.06-.94-.94-2.06-.94 2.06-2.06.94z\"/><path d=\"M17.41 7.96l-1.37-1.37c-.4-.4-.92-.59-1.43-.59-.52 0-1.04.2-1.43.59L10.3 9.45l-7.72 7.72c-.78.78-.78 2.05 0 2.83L4 21.41c.39.39.9.59 1.41.59.51 0 1.02-.2 1.41-.59l7.78-7.78 2.81-2.81c.8-.78.8-2.07 0-2.86zM5.41 20L4 18.59l7.72-7.72 1.47 1.35L5.41 20z\"/>\n",
              "  </svg>\n",
              "      </button>\n",
              "      \n",
              "  <style>\n",
              "    .colab-df-container {\n",
              "      display:flex;\n",
              "      flex-wrap:wrap;\n",
              "      gap: 12px;\n",
              "    }\n",
              "\n",
              "    .colab-df-convert {\n",
              "      background-color: #E8F0FE;\n",
              "      border: none;\n",
              "      border-radius: 50%;\n",
              "      cursor: pointer;\n",
              "      display: none;\n",
              "      fill: #1967D2;\n",
              "      height: 32px;\n",
              "      padding: 0 0 0 0;\n",
              "      width: 32px;\n",
              "    }\n",
              "\n",
              "    .colab-df-convert:hover {\n",
              "      background-color: #E2EBFA;\n",
              "      box-shadow: 0px 1px 2px rgba(60, 64, 67, 0.3), 0px 1px 3px 1px rgba(60, 64, 67, 0.15);\n",
              "      fill: #174EA6;\n",
              "    }\n",
              "\n",
              "    [theme=dark] .colab-df-convert {\n",
              "      background-color: #3B4455;\n",
              "      fill: #D2E3FC;\n",
              "    }\n",
              "\n",
              "    [theme=dark] .colab-df-convert:hover {\n",
              "      background-color: #434B5C;\n",
              "      box-shadow: 0px 1px 3px 1px rgba(0, 0, 0, 0.15);\n",
              "      filter: drop-shadow(0px 1px 2px rgba(0, 0, 0, 0.3));\n",
              "      fill: #FFFFFF;\n",
              "    }\n",
              "  </style>\n",
              "\n",
              "      <script>\n",
              "        const buttonEl =\n",
              "          document.querySelector('#df-cc21e361-305b-42e2-8851-09c9bc4ca5f9 button.colab-df-convert');\n",
              "        buttonEl.style.display =\n",
              "          google.colab.kernel.accessAllowed ? 'block' : 'none';\n",
              "\n",
              "        async function convertToInteractive(key) {\n",
              "          const element = document.querySelector('#df-cc21e361-305b-42e2-8851-09c9bc4ca5f9');\n",
              "          const dataTable =\n",
              "            await google.colab.kernel.invokeFunction('convertToInteractive',\n",
              "                                                     [key], {});\n",
              "          if (!dataTable) return;\n",
              "\n",
              "          const docLinkHtml = 'Like what you see? Visit the ' +\n",
              "            '<a target=\"_blank\" href=https://colab.research.google.com/notebooks/data_table.ipynb>data table notebook</a>'\n",
              "            + ' to learn more about interactive tables.';\n",
              "          element.innerHTML = '';\n",
              "          dataTable['output_type'] = 'display_data';\n",
              "          await google.colab.output.renderOutput(dataTable, element);\n",
              "          const docLink = document.createElement('div');\n",
              "          docLink.innerHTML = docLinkHtml;\n",
              "          element.appendChild(docLink);\n",
              "        }\n",
              "      </script>\n",
              "    </div>\n",
              "  </div>\n",
              "  "
            ],
            "text/plain": [
              "   YearsExperience  Salary  age  company_change    type\n",
              "0              1.1   39343   21               1  junior\n",
              "1              1.3   46205   31               0  middle\n",
              "2              1.5   37731   29               1  middle\n",
              "3              2.0   43525   30               1  middle\n",
              "4              2.2   39891   27               1  middle"
            ]
          },
          "metadata": {},
          "execution_count": 160
        }
      ]
    },
    {
      "cell_type": "markdown",
      "source": [
        "take only years of experince and salary"
      ],
      "metadata": {
        "id": "rUQKfe74_U8z"
      }
    },
    {
      "cell_type": "code",
      "source": [
        "x = np.array(salary_dataset['YearsExperience'])\n",
        "y = np.array(salary_dataset['Salary'])\n",
        "l = len(x)"
      ],
      "metadata": {
        "id": "JBFYSIDv8_t3"
      },
      "execution_count": 161,
      "outputs": []
    },
    {
      "cell_type": "markdown",
      "source": [
        "split the data set into train and test\n",
        "and storing the len of train data set in a variable."
      ],
      "metadata": {
        "id": "pggAbP-M_SQ9"
      }
    },
    {
      "cell_type": "code",
      "source": [
        "from sklearn.model_selection import train_test_split\n",
        "\n",
        "x_train, x_test, y_train, y_test = train_test_split(x, y, random_state=32)\n",
        "lx = len(x_train)"
      ],
      "metadata": {
        "id": "4IxKtYC62-fH"
      },
      "execution_count": 162,
      "outputs": []
    },
    {
      "cell_type": "code",
      "source": [
        "m = 0.1\n",
        "c = 0.01\n",
        "alpha = 0.01\n",
        "n = 4000\n",
        "for i in range(n):\n",
        "    slope = 0\n",
        "    intercept = 0\n",
        "    for j in range(lx):\n",
        "        intercept = intercept + ((m *x_train[j] + c) - y_train[j])\n",
        "        slope = slope + ((m *x_train[j] + c) - y_train[j]) * x_train[j]\n",
        "    c = c-alpha * (intercept / lx)\n",
        "    m = m-alpha * (slope / lx)"
      ],
      "metadata": {
        "id": "j90r685n9r2m"
      },
      "execution_count": 163,
      "outputs": []
    },
    {
      "cell_type": "markdown",
      "source": [
        "slope and y intercept."
      ],
      "metadata": {
        "id": "rDUA6qpQ_0V2"
      }
    },
    {
      "cell_type": "code",
      "source": [
        "print(f\"slope is {m}\")\n",
        "print(f\"intercept is {c}\")"
      ],
      "metadata": {
        "colab": {
          "base_uri": "https://localhost:8080/"
        },
        "id": "TtO3HK-d9r46",
        "outputId": "b3a7e788-8d61-4c79-c1ee-891eb5a33515"
      },
      "execution_count": 164,
      "outputs": [
        {
          "output_type": "stream",
          "name": "stdout",
          "text": [
            "slope is 9661.770520278025\n",
            "intercept is 25227.29486229368\n"
          ]
        }
      ]
    },
    {
      "cell_type": "code",
      "source": [
        "y_pred = np.dot(m, x_test) + c\n",
        "y_pred"
      ],
      "metadata": {
        "colab": {
          "base_uri": "https://localhost:8080/"
        },
        "id": "fRkM9xxA9r7L",
        "outputId": "119d0901-4439-4b7b-e175-38ae088605e0"
      },
      "execution_count": 165,
      "outputs": [
        {
          "output_type": "execute_result",
          "data": {
            "text/plain": [
              "array([ 35855.2424346 ,  64840.55399543,  54212.60642313,  63874.37694341,\n",
              "        93825.86555627,  72569.97041166, 126675.88532521, 112183.2295448 ])"
            ]
          },
          "metadata": {},
          "execution_count": 165
        }
      ]
    },
    {
      "cell_type": "code",
      "source": [
        "plt.plot(x_test, y_pred, marker='o', color='blue', markerfacecolor='red', markersize=10, linestyle='dashed')\n",
        "plt.scatter(x,y,marker='o',color='red')\n",
        "plt.xlabel(\"yearsofexp\")\n",
        "plt.ylabel(\"salary\")\n",
        "plt.title(\"Gradient descent\")\n",
        "plt.show()"
      ],
      "metadata": {
        "colab": {
          "base_uri": "https://localhost:8080/",
          "height": 325
        },
        "id": "zDVUvLNq9zFl",
        "outputId": "7876a852-969a-4fb9-cc4d-8f152decb69a"
      },
      "execution_count": 166,
      "outputs": [
        {
          "output_type": "display_data",
          "data": {
            "image/png": "[encoded data removed]",
            "text/plain": [
              "<Figure size 432x288 with 1 Axes>"
            ]
          },
          "metadata": {}
        }
      ]
    },
    {
      "cell_type": "code",
      "source": [
        "from sklearn.metrics import mean_squared_error,r2_score,mean_absolute_error\n",
        "from sklearn.metrics import explained_variance_score"
      ],
      "metadata": {
        "id": "WzKfb1YZ9zIL"
      },
      "execution_count": 167,
      "outputs": []
    },
    {
      "cell_type": "markdown",
      "source": [
        "We can see that we got a very good accuracy of 95%"
      ],
      "metadata": {
        "id": "RQ2rsY5MATar"
      }
    },
    {
      "cell_type": "code",
      "source": [
        "print(mean_squared_error(y_test,y_pred))\n",
        "print(np.sqrt(mean_squared_error(y_test,y_pred)))\n",
        "print(mean_absolute_error(y_test,y_pred))\n",
        "print(explained_variance_score(y_test,y_pred))\n",
        "print(r2_score(y_test,y_pred))"
      ],
      "metadata": {
        "colab": {
          "base_uri": "https://localhost:8080/"
        },
        "id": "z8x3Z0LE9zK-",
        "outputId": "cf0721d6-0654-4446-84c1-5cfa2bcfa420"
      },
      "execution_count": 168,
      "outputs": [
        {
          "output_type": "stream",
          "name": "stdout",
          "text": [
            "32920447.21035915\n",
            "5737.634286912957\n",
            "5573.287725813661\n",
            "0.9610803330349375\n",
            "0.9550256304021368\n"
          ]
        }
      ]
    },
    {
      "cell_type": "markdown",
      "source": [
        "## **Stochastic Gradient Descent**"
      ],
      "metadata": {
        "id": "l7ma2nuzAdzr"
      }
    },
    {
      "cell_type": "code",
      "source": [
        "salary_dataset = pd.read_csv(\"/content/drive/MyDrive/258/Assignment_1/Salary.csv\")\n",
        "salary_dataset.head()"
      ],
      "metadata": {
        "colab": {
          "base_uri": "https://localhost:8080/",
          "height": 206
        },
        "id": "r8LzoSm8C8Ke",
        "outputId": "efc7c41f-455d-4ee2-d1e8-f6917cd6859e"
      },
      "execution_count": 169,
      "outputs": [
        {
          "output_type": "execute_result",
          "data": {
            "text/html": [
              "\n",
              "  <div id=\"df-78f5427e-fa59-4501-904a-52d2b2b56584\">\n",
              "    <div class=\"colab-df-container\">\n",
              "      <div>\n",
              "<style scoped>\n",
              "    .dataframe tbody tr th:only-of-type {\n",
              "        vertical-align: middle;\n",
              "    }\n",
              "\n",
              "    .dataframe tbody tr th {\n",
              "        vertical-align: top;\n",
              "    }\n",
              "\n",
              "    .dataframe thead th {\n",
              "        text-align: right;\n",
              "    }\n",
              "</style>\n",
              "<table border=\"1\" class=\"dataframe\">\n",
              "  <thead>\n",
              "    <tr style=\"text-align: right;\">\n",
              "      <th></th>\n",
              "      <th>YearsExperience</th>\n",
              "      <th>Salary</th>\n",
              "      <th>age</th>\n",
              "      <th>company_change</th>\n",
              "      <th>type</th>\n",
              "    </tr>\n",
              "  </thead>\n",
              "  <tbody>\n",
              "    <tr>\n",
              "      <th>0</th>\n",
              "      <td>1.1</td>\n",
              "      <td>39343</td>\n",
              "      <td>21</td>\n",
              "      <td>1</td>\n",
              "      <td>junior</td>\n",
              "    </tr>\n",
              "    <tr>\n",
              "      <th>1</th>\n",
              "      <td>1.3</td>\n",
              "      <td>46205</td>\n",
              "      <td>31</td>\n",
              "      <td>0</td>\n",
              "      <td>middle</td>\n",
              "    </tr>\n",
              "    <tr>\n",
              "      <th>2</th>\n",
              "      <td>1.5</td>\n",
              "      <td>37731</td>\n",
              "      <td>29</td>\n",
              "      <td>1</td>\n",
              "      <td>middle</td>\n",
              "    </tr>\n",
              "    <tr>\n",
              "      <th>3</th>\n",
              "      <td>2.0</td>\n",
              "      <td>43525</td>\n",
              "      <td>30</td>\n",
              "      <td>1</td>\n",
              "      <td>middle</td>\n",
              "    </tr>\n",
              "    <tr>\n",
              "      <th>4</th>\n",
              "      <td>2.2</td>\n",
              "      <td>39891</td>\n",
              "      <td>27</td>\n",
              "      <td>1</td>\n",
              "      <td>middle</td>\n",
              "    </tr>\n",
              "  </tbody>\n",
              "</table>\n",
              "</div>\n",
              "      <button class=\"colab-df-convert\" onclick=\"convertToInteractive('df-78f5427e-fa59-4501-904a-52d2b2b56584')\"\n",
              "              title=\"Convert this dataframe to an interactive table.\"\n",
              "              style=\"display:none;\">\n",
              "        \n",
              "  <svg xmlns=\"http://www.w3.org/2000/svg\" height=\"24px\"viewBox=\"0 0 24 24\"\n",
              "       width=\"24px\">\n",
              "    <path d=\"M0 0h24v24H0V0z\" fill=\"none\"/>\n",
              "    <path d=\"M18.56 5.44l.94 2.06.94-2.06 2.06-.94-2.06-.94-.94-2.06-.94 2.06-2.06.94zm-11 1L8.5 8.5l.94-2.06 2.06-.94-2.06-.94L8.5 2.5l-.94 2.06-2.06.94zm10 10l.94 2.06.94-2.06 2.06-.94-2.06-.94-.94-2.06-.94 2.06-2.06.94z\"/><path d=\"M17.41 7.96l-1.37-1.37c-.4-.4-.92-.59-1.43-.59-.52 0-1.04.2-1.43.59L10.3 9.45l-7.72 7.72c-.78.78-.78 2.05 0 2.83L4 21.41c.39.39.9.59 1.41.59.51 0 1.02-.2 1.41-.59l7.78-7.78 2.81-2.81c.8-.78.8-2.07 0-2.86zM5.41 20L4 18.59l7.72-7.72 1.47 1.35L5.41 20z\"/>\n",
              "  </svg>\n",
              "      </button>\n",
              "      \n",
              "  <style>\n",
              "    .colab-df-container {\n",
              "      display:flex;\n",
              "      flex-wrap:wrap;\n",
              "      gap: 12px;\n",
              "    }\n",
              "\n",
              "    .colab-df-convert {\n",
              "      background-color: #E8F0FE;\n",
              "      border: none;\n",
              "      border-radius: 50%;\n",
              "      cursor: pointer;\n",
              "      display: none;\n",
              "      fill: #1967D2;\n",
              "      height: 32px;\n",
              "      padding: 0 0 0 0;\n",
              "      width: 32px;\n",
              "    }\n",
              "\n",
              "    .colab-df-convert:hover {\n",
              "      background-color: #E2EBFA;\n",
              "      box-shadow: 0px 1px 2px rgba(60, 64, 67, 0.3), 0px 1px 3px 1px rgba(60, 64, 67, 0.15);\n",
              "      fill: #174EA6;\n",
              "    }\n",
              "\n",
              "    [theme=dark] .colab-df-convert {\n",
              "      background-color: #3B4455;\n",
              "      fill: #D2E3FC;\n",
              "    }\n",
              "\n",
              "    [theme=dark] .colab-df-convert:hover {\n",
              "      background-color: #434B5C;\n",
              "      box-shadow: 0px 1px 3px 1px rgba(0, 0, 0, 0.15);\n",
              "      filter: drop-shadow(0px 1px 2px rgba(0, 0, 0, 0.3));\n",
              "      fill: #FFFFFF;\n",
              "    }\n",
              "  </style>\n",
              "\n",
              "      <script>\n",
              "        const buttonEl =\n",
              "          document.querySelector('#df-78f5427e-fa59-4501-904a-52d2b2b56584 button.colab-df-convert');\n",
              "        buttonEl.style.display =\n",
              "          google.colab.kernel.accessAllowed ? 'block' : 'none';\n",
              "\n",
              "        async function convertToInteractive(key) {\n",
              "          const element = document.querySelector('#df-78f5427e-fa59-4501-904a-52d2b2b56584');\n",
              "          const dataTable =\n",
              "            await google.colab.kernel.invokeFunction('convertToInteractive',\n",
              "                                                     [key], {});\n",
              "          if (!dataTable) return;\n",
              "\n",
              "          const docLinkHtml = 'Like what you see? Visit the ' +\n",
              "            '<a target=\"_blank\" href=https://colab.research.google.com/notebooks/data_table.ipynb>data table notebook</a>'\n",
              "            + ' to learn more about interactive tables.';\n",
              "          element.innerHTML = '';\n",
              "          dataTable['output_type'] = 'display_data';\n",
              "          await google.colab.output.renderOutput(dataTable, element);\n",
              "          const docLink = document.createElement('div');\n",
              "          docLink.innerHTML = docLinkHtml;\n",
              "          element.appendChild(docLink);\n",
              "        }\n",
              "      </script>\n",
              "    </div>\n",
              "  </div>\n",
              "  "
            ],
            "text/plain": [
              "   YearsExperience  Salary  age  company_change    type\n",
              "0              1.1   39343   21               1  junior\n",
              "1              1.3   46205   31               0  middle\n",
              "2              1.5   37731   29               1  middle\n",
              "3              2.0   43525   30               1  middle\n",
              "4              2.2   39891   27               1  middle"
            ]
          },
          "metadata": {},
          "execution_count": 169
        }
      ]
    },
    {
      "cell_type": "code",
      "source": [
        "x = np.array(salary_dataset['YearsExperience'])\n",
        "y = np.array(salary_dataset['Salary'])\n",
        "l = len(x)"
      ],
      "metadata": {
        "id": "ROiKKtQvBNfN"
      },
      "execution_count": 170,
      "outputs": []
    },
    {
      "cell_type": "code",
      "source": [
        "x_train, x_test, y_train, y_test = train_test_split(x, y, random_state=6)\n",
        "lx = len(x_train)"
      ],
      "metadata": {
        "id": "rV1eZzMdBeG0"
      },
      "execution_count": 171,
      "outputs": []
    },
    {
      "cell_type": "code",
      "source": [
        "m = 0.1\n",
        "c = 0.5\n",
        "alpha = 0.01\n",
        "n = 4000\n",
        "for i in range(n):\n",
        "    slope = 0\n",
        "    intercept = 0\n",
        "    for j in range(lx):\n",
        "        random_index = np.random.randint(lx)\n",
        "        intercept = intercept + ((m * x_train[random_index:random_index + 1] + c) - y_train[random_index:random_index + 1])\n",
        "        slope = slope + ((m * x_train[random_index:random_index + 1] + c) - y_train[random_index:random_index + 1]) * x_train[random_index:random_index + 1]\n",
        "        c = c - alpha * (intercept / lx)\n",
        "        m = m - alpha * (slope / lx)"
      ],
      "metadata": {
        "id": "4npc2VZ23PyE"
      },
      "execution_count": 172,
      "outputs": []
    },
    {
      "cell_type": "markdown",
      "source": [
        "Slope and y-intercept"
      ],
      "metadata": {
        "id": "D1MXDwBHBCLG"
      }
    },
    {
      "cell_type": "code",
      "source": [
        "print(f\"slope is {m}\")\n",
        "print(f\"intercept is {c}\")"
      ],
      "metadata": {
        "colab": {
          "base_uri": "https://localhost:8080/"
        },
        "id": "DiXG9fYX3QBq",
        "outputId": "d29918b4-e6c6-462a-83e1-8f84ecd8825f"
      },
      "execution_count": 173,
      "outputs": [
        {
          "output_type": "stream",
          "name": "stdout",
          "text": [
            "slope is [7651.11755368]\n",
            "intercept is [22593.03894822]\n"
          ]
        }
      ]
    },
    {
      "cell_type": "code",
      "source": [
        "y_pred = np.dot(m[0], x_test) + c[0]\n",
        "y_pred"
      ],
      "metadata": {
        "colab": {
          "base_uri": "https://localhost:8080/"
        },
        "id": "wlH_x9rH3aSF",
        "outputId": "0a529308-8517-467a-8de7-e7e9dcaf0bd6"
      },
      "execution_count": 174,
      "outputs": [
        {
          "output_type": "execute_result",
          "data": {
            "text/plain": [
              "array([ 31009.26825726, 101399.54975109,  96043.76746351,  45546.39160925,\n",
              "        63143.9619827 ,  68499.74427028,  47076.61511998,  44781.27985388])"
            ]
          },
          "metadata": {},
          "execution_count": 174
        }
      ]
    },
    {
      "cell_type": "code",
      "source": [
        "plt.plot(x_test, y_pred,marker='o', color='blue', markerfacecolor='red', markersize=10, linestyle='dashed')\n",
        "plt.scatter(x,y,marker='o',color='red')\n",
        "plt.xlabel(\"yearsofexp\")\n",
        "plt.ylabel(\"salary\")\n",
        "plt.title(\"Gradient descent\")\n",
        "plt.show()"
      ],
      "metadata": {
        "colab": {
          "base_uri": "https://localhost:8080/",
          "height": 325
        },
        "id": "Hgkxcn9N3e-a",
        "outputId": "616af678-daed-47da-c151-98421ca2845c"
      },
      "execution_count": 175,
      "outputs": [
        {
          "output_type": "display_data",
          "data": {
            "image/png": "[encoded data removed]",
            "text/plain": [
              "<Figure size 432x288 with 1 Axes>"
            ]
          },
          "metadata": {}
        }
      ]
    },
    {
      "cell_type": "markdown",
      "source": [
        "We can see that we get an accuracy of around 92%."
      ],
      "metadata": {
        "id": "rGsoyCAZDCi0"
      }
    },
    {
      "cell_type": "code",
      "source": [
        "print(mean_squared_error(y_test,y_pred))\n",
        "print(np.sqrt(mean_squared_error(y_test,y_pred)))\n",
        "print(mean_absolute_error(y_test,y_pred))\n",
        "print(explained_variance_score(y_test,y_pred))\n",
        "print(r2_score(y_test,y_pred))"
      ],
      "metadata": {
        "colab": {
          "base_uri": "https://localhost:8080/"
        },
        "id": "fCAALlvj3hjq",
        "outputId": "fbcfe474-b099-4647-8725-a8e7466c44be"
      },
      "execution_count": 176,
      "outputs": [
        {
          "output_type": "stream",
          "name": "stdout",
          "text": [
            "279820935.6970526\n",
            "16727.84910552019\n",
            "15641.677711505776\n",
            "0.9551678934748029\n",
            "0.6431919546227053\n"
          ]
        }
      ]
    },
    {
      "cell_type": "markdown",
      "source": [
        "##**Mean-Batch Gradient Descent**"
      ],
      "metadata": {
        "id": "U6QTzpayD9kH"
      }
    },
    {
      "cell_type": "code",
      "source": [
        "x_train, x_test, y_train, y_test = train_test_split(x, y, random_state=32)\n",
        "lx = len(x_train)"
      ],
      "metadata": {
        "id": "aMiK2QJuC9pk"
      },
      "execution_count": 177,
      "outputs": []
    },
    {
      "cell_type": "markdown",
      "source": [
        "Create a class to mini batch\n",
        "\n",
        "1. Shuffke and create batch\n",
        "\n",
        "2. fitting the model\n",
        "\n",
        "3. visualise slope intercept\n",
        "\n",
        "4. predict"
      ],
      "metadata": {
        "id": "FUe8pUlEFwcG"
      }
    },
    {
      "cell_type": "code",
      "source": [
        "class mini_batch_gradient_descent:\n",
        "    \n",
        "    def create_batch(self, x_train, y_train, batch_size):\n",
        "        mini_batches = []\n",
        "        data = np.stack((x_train, y_train), axis=1)\n",
        "        np.random.shuffle(data)\n",
        "        no_of_batches = x_train.shape[0] // batch_size\n",
        "        for i in range(no_of_batches):\n",
        "            mini_batch = data[i * batch_size:(i + 1) * batch_size]\n",
        "            mini_batches.append((mini_batch[:,0], mini_batch[:,1]))\n",
        "        if x_train.shape[0] % batch_size != 0:\n",
        "            mini_batch = data[(i + 1) * batch_size:]\n",
        "            mini_batches.append((mini_batch[:,0], mini_batch[:,1]))\n",
        "        return mini_batches\n",
        "    \n",
        "    def fit(self, x_train, y_train, alpha, epochs, batch_size):\n",
        "        self.m = np.random.randn(1, 1)\n",
        "        self.c = np.random.randn(1, 1)\n",
        "        l = len(x_train)\n",
        "        for i in range(epochs):\n",
        "            batches = self.create_batch(x_train, y_train, batch_size)\n",
        "            for batch in batches:\n",
        "                xb = batch[0]\n",
        "                yb = batch[1]\n",
        "                xb = xb.reshape(1, xb.shape[0])\n",
        "                intecept = np.sum((np.dot(self.m, xb) + self.c) - yb)\n",
        "                slope = np.sum(((np.dot(self.m, xb) + self.c) - yb) * xb)\n",
        "                self.m = self.m - alpha * (slope / l)\n",
        "                self.c = self.c - alpha * (intecept / l)\n",
        "    \n",
        "    def slope_intercept(self):\n",
        "        print(f\"slope is {self.m[0][0]}\")\n",
        "        print(f\"intecept is {self.c[0][0]}\")\n",
        "    \n",
        "    def predict(self,x_test):\n",
        "        x_test = x_test.reshape(x_test.shape[0], 1)\n",
        "        self.m = self.m.reshape(self.m.shape[1], self.m.shape[0])\n",
        "        result = np.dot(x_test, self.m) +self.c\n",
        "        return result"
      ],
      "metadata": {
        "id": "0qEIEcsFELz7"
      },
      "execution_count": 178,
      "outputs": []
    },
    {
      "cell_type": "markdown",
      "source": [
        "Initalise the batch size."
      ],
      "metadata": {
        "id": "GeYBFa29Hd3M"
      }
    },
    {
      "cell_type": "code",
      "source": [
        "mgd = mini_batch_gradient_descent()\n",
        "mgd.fit(x_train, y_train, 0.01, 4000, 8)\n",
        "mgd.slope_intercept()"
      ],
      "metadata": {
        "colab": {
          "base_uri": "https://localhost:8080/"
        },
        "id": "vHmzRQJ1E1iV",
        "outputId": "9d4489a6-8a1b-445b-ccc6-06ffb61e7747"
      },
      "execution_count": 179,
      "outputs": [
        {
          "output_type": "stream",
          "name": "stdout",
          "text": [
            "slope is 9668.233145551792\n",
            "intecept is 25233.699502314525\n"
          ]
        }
      ]
    },
    {
      "cell_type": "code",
      "source": [
        "y_pred = mgd.predict(x_test)"
      ],
      "metadata": {
        "id": "BBKt3YqzE9jg"
      },
      "execution_count": 180,
      "outputs": []
    },
    {
      "cell_type": "code",
      "source": [
        "plt.plot(x_test,y_pred,marker='o', color='blue', markerfacecolor='red', markersize=10, linestyle='dashed')\n",
        "plt.scatter(x, y, marker='o', color='red')\n",
        "plt.xlabel(\"yexp\")\n",
        "plt.ylabel(\"slaary\")\n",
        "plt.title(\"Gradient descent\")\n",
        "plt.show()"
      ],
      "metadata": {
        "colab": {
          "base_uri": "https://localhost:8080/",
          "height": 325
        },
        "id": "ew48tDXTE_64",
        "outputId": "5cb4c0a7-7c56-4120-e10a-c7538d0a8e92"
      },
      "execution_count": 181,
      "outputs": [
        {
          "output_type": "display_data",
          "data": {
            "image/png": "[encoded data removed]",
            "text/plain": [
              "<Figure size 432x288 with 1 Axes>"
            ]
          },
          "metadata": {}
        }
      ]
    },
    {
      "cell_type": "markdown",
      "source": [
        "We get an accuracy of 95%."
      ],
      "metadata": {
        "id": "ZBjgRuRQHaN5"
      }
    },
    {
      "cell_type": "code",
      "source": [
        "print(mean_squared_error(y_test,y_pred))\n",
        "print(np.sqrt(mean_squared_error(y_test,y_pred)))\n",
        "print(mean_absolute_error(y_test,y_pred))\n",
        "print(explained_variance_score(y_test,y_pred))\n",
        "print(r2_score(y_test,y_pred))"
      ],
      "metadata": {
        "colab": {
          "base_uri": "https://localhost:8080/"
        },
        "id": "ik4R7sqZFEwl",
        "outputId": "8b950ab2-00f9-496c-f8d3-3ba1a939fd2f"
      },
      "execution_count": 182,
      "outputs": [
        {
          "output_type": "stream",
          "name": "stdout",
          "text": [
            "33173785.663676135\n",
            "5759.668884899213\n",
            "5592.095625610279\n",
            "0.9609765113843967\n",
            "0.9546795312996543\n"
          ]
        }
      ]
    }
  ]
}